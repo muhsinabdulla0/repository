{
 "cells": [
  {
   "cell_type": "markdown",
   "id": "0d4cf1b3-544e-4aeb-a910-2735978a242a",
   "metadata": {},
   "source": [
    "# Data science Tools and Ecosystem"
   ]
  },
  {
   "cell_type": "markdown",
   "id": "abeba65e-00b0-4d41-b33f-daf084f7588d",
   "metadata": {},
   "source": [
    "## In this Notebook, Data Science tools and ecosystem are summarized."
   ]
  },
  {
   "cell_type": "markdown",
   "id": "d28192ea-5ec9-4447-a9d6-afd5a101e30e",
   "metadata": {},
   "source": [
    "### some of the popular languages use by Data Scientists are :"
   ]
  },
  {
   "cell_type": "markdown",
   "id": "60b5025a-5ce8-4ad2-a451-a9ee31b07502",
   "metadata": {},
   "source": [
    "1. Python\n",
    "2. R\n",
    "3. Julia\n"
   ]
  },
  {
   "cell_type": "markdown",
   "id": "840ad13b-8e5c-4a76-ae27-15b251a1cef2",
   "metadata": {},
   "source": [
    "### some of the commonly used libraries by data scientists are :"
   ]
  },
  {
   "cell_type": "markdown",
   "id": "d8b944c5-2b56-4fce-84fd-51393fe6c8dc",
   "metadata": {},
   "source": [
    "1. Pandas\n",
    "2. NumPy\n",
    "3. Matplotlib"
   ]
  },
  {
   "cell_type": "markdown",
   "id": "2c95e543-7f9f-439c-a587-966305eecf49",
   "metadata": {},
   "source": [
    "## Three development environment open source tools used for data science are :"
   ]
  },
  {
   "cell_type": "markdown",
   "id": "25c00850-dd9e-43d6-8d01-8df2256a56a3",
   "metadata": {},
   "source": [
    "| Data Science Tools |\n",
    "|--------------------|\n",
    "| Jupyter Notebook |\n",
    "| Python |\n",
    "| Rstudio |"
   ]
  },
  {
   "cell_type": "markdown",
   "id": "f0fc7d28-e4fc-4056-bbc9-3838d4f36246",
   "metadata": {},
   "source": [
    "### below are few examples for evaluating arithmetic expressions in python:"
   ]
  },
  {
   "cell_type": "code",
   "execution_count": 3,
   "id": "b25e52fd-f77a-4857-ae5a-3b3653542b00",
   "metadata": {},
   "outputs": [
    {
     "data": {
      "text/plain": [
       "17"
      ]
     },
     "execution_count": 3,
     "metadata": {},
     "output_type": "execute_result"
    }
   ],
   "source": [
    "#This is a simple arithmetic expression to multiply then add integers\n",
    "(3*4)+5"
   ]
  },
  {
   "cell_type": "code",
   "execution_count": 6,
   "id": "df733e4e-755f-49ae-bc5b-7d4689ed391e",
   "metadata": {},
   "outputs": [
    {
     "data": {
      "text/plain": [
       "3.3333333333333335"
      ]
     },
     "execution_count": 6,
     "metadata": {},
     "output_type": "execute_result"
    }
   ],
   "source": [
    "#This will convert 200 minutes to hours by dividing by 6\n",
    "200/60"
   ]
  },
  {
   "cell_type": "markdown",
   "id": "0310a95b-b6a7-4ceb-aacd-e5ed01221511",
   "metadata": {},
   "source": [
    "<b> Objective </b>"
   ]
  },
  {
   "cell_type": "markdown",
   "id": "8436e711-3056-4816-8f81-bd76a62c39d7",
   "metadata": {},
   "source": [
    " ### List popular languages for Data science :"
   ]
  },
  {
   "cell_type": "markdown",
   "id": "ebfa3d5b-3555-43c0-81f5-e62930e61cca",
   "metadata": {},
   "source": [
    "* Python\n",
    "* R\n",
    "* Julia"
   ]
  },
  {
   "cell_type": "markdown",
   "id": "686e1299-b7f3-4688-a5ed-84b2ed0ef52d",
   "metadata": {},
   "source": [
    "## Author\n",
    " ### Name: "
   ]
  },
  {
   "cell_type": "code",
   "execution_count": null,
   "id": "faed3236-ee23-4c3c-bfb2-062960c6c8b0",
   "metadata": {},
   "outputs": [],
   "source": []
  }
 ],
 "metadata": {
  "kernelspec": {
   "display_name": "Python 3 (ipykernel)",
   "language": "python",
   "name": "python3"
  },
  "language_info": {
   "codemirror_mode": {
    "name": "ipython",
    "version": 3
   },
   "file_extension": ".py",
   "mimetype": "text/x-python",
   "name": "python",
   "nbconvert_exporter": "python",
   "pygments_lexer": "ipython3",
   "version": "3.12.8"
  }
 },
 "nbformat": 4,
 "nbformat_minor": 5
}
